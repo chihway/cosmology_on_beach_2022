{
  "cells": [
    {
      "cell_type": "markdown",
      "metadata": {
        "id": "view-in-github",
        "colab_type": "text"
      },
      "source": [
        "<a href=\"https://colab.research.google.com/github/chihway/cosmology_on_beach_2022/blob/main/Tutorial3_cosmology_inference.ipynb\" target=\"_parent\"><img src=\"https://colab.research.google.com/assets/colab-badge.svg\" alt=\"Open In Colab\"/></a>"
      ]
    },
    {
      "cell_type": "markdown",
      "source": [
        "# **Explore MCMC chains**\n",
        "\n",
        "Time: 20 min\n",
        "\n",
        "In this tutorial we will learn how to plot and interpret MCMC chains. \n",
        "\n",
        "We will learn to:\n",
        "* Plot different number of parameters from the chains, print out their 1-sigma constraints\n",
        "* Compare chains from different experiment and understand what the difference between them mean and don't mean\n",
        "\n",
        "We will be making the plots using the software package [chainconsumer](https://github.com/Samreay/ChainConsumer)."
      ],
      "metadata": {
        "id": "ogLynmkY1xgb"
      }
    },
    {
      "cell_type": "code",
      "execution_count": null,
      "metadata": {
        "id": "A0TRrNumzxHE"
      },
      "outputs": [],
      "source": [
        "import numpy as np\n",
        "import pylab as mplot\n",
        "%pylab inline\n",
        "import os"
      ]
    },
    {
      "cell_type": "code",
      "execution_count": null,
      "metadata": {
        "id": "U-H5r41yz4Gi"
      },
      "outputs": [],
      "source": [
        "# we will need to install chainconsumer to plot the chains\n",
        "!pip install chainconsumer"
      ]
    },
    {
      "cell_type": "code",
      "source": [
        "from chainconsumer import ChainConsumer"
      ],
      "metadata": {
        "id": "Kliic3Nc_BIL"
      },
      "execution_count": null,
      "outputs": []
    },
    {
      "cell_type": "markdown",
      "source": [
        "We will be using the DES-SV and KiDS-450 chains from [this paper](https://arxiv.org/abs/1808.07335). The paper first tries to reproduce the cosmic shear results from the [DES-SV paper](https://arxiv.org/abs/1507.05552) and the [KiDS-450 paper](https://arxiv.org/abs/1601.05786). It then tries to unify the various analysis choices and compare them again. Let's again download the data."
      ],
      "metadata": {
        "id": "4dfinCBj2v3T"
      }
    },
    {
      "cell_type": "code",
      "source": [
        "!rm -rf data_3\n",
        "!curl -O https://portal.nersc.gov/cfs/lsst/chihway/data_3.tar.gz\n",
        "!tar -xvzf data_3.tar.gz"
      ],
      "metadata": {
        "id": "BDIzL_xX_bBO"
      },
      "execution_count": null,
      "outputs": []
    },
    {
      "cell_type": "markdown",
      "source": [
        "### First let's plot the chains from the paper directly"
      ],
      "metadata": {
        "id": "dbvvHP7i_Nwi"
      }
    },
    {
      "cell_type": "code",
      "source": [
        "def weighted_percentile(data, percents, weights=None):\n",
        "\n",
        "    if weights is None:\n",
        "        return np.percentile(data, percents)\n",
        "    ind = np.argsort(data)\n",
        "    d = data[ind]\n",
        "    w = weights[ind]\n",
        "    p = 1.*w.cumsum()/w.sum()*100\n",
        "    y = np.interp(percents, p, d)\n",
        "    return y\n",
        "\n",
        "def get_s8(omegam, sigma8):\n",
        "    return sigma8*np.sqrt(omegam/0.3)\n",
        "  \n",
        "def constraints(s8, w):\n",
        "    low = weighted_percentile(s8, 16, weights=w)\n",
        "    high = weighted_percentile(s8, 84, weights=w)\n",
        "    mean = np.average(s8, weights=w)\n",
        "        \n",
        "    print(\"$%.4f_{%.4f}^{%.4f}$\" % (mean, mean-low, high-mean))\n",
        "    return mean, mean-low, high-mean"
      ],
      "metadata": {
        "id": "bunuqguNAMCy"
      },
      "execution_count": null,
      "outputs": []
    },
    {
      "cell_type": "code",
      "execution_count": null,
      "metadata": {
        "id": "gQKViQJ8z-f9"
      },
      "outputs": [],
      "source": [
        "kids_paper = 'data_3/kids450dir'\n",
        "des_paper = 'data_3/dessv_chain_reduced_v2.txt'"
      ]
    },
    {
      "cell_type": "code",
      "source": [
        "data_params = []\n",
        "weights = []\n",
        "file_list = [des_paper, kids_paper]\n",
        "\n",
        "Om = np.array([])\n",
        "s8 = np.array([])\n",
        "ww = np.array([])\n",
        "\n",
        "data = np.loadtxt(file_list[0])\n",
        "os.system(\"cat \"+file_list[0]+\" | tail -3 | head -1 | sed s/'='/' '/|awk '{print $2}'>nsample\")\n",
        "nsample = int(np.loadtxt('nsample'))\n",
        "weights.append(data[-nsample:,14])\n",
        "data_params.append([data[-nsample:,0], data[-nsample:,3]*(data[-nsample:,0]/0.3)**0.5]) #12\n",
        "\n",
        "for i in range(8):\n",
        "    data = np.loadtxt(file_list[1]+'_'+str(i+1)+'.txt')\n",
        "    N = len(data)\n",
        "    Om = np.concatenate((Om, data[int(N*0.3):,10]), axis=0)\n",
        "    s8 = np.concatenate((s8, data[int(N*0.3):,14]), axis=0)\n",
        "    ww = np.concatenate((ww, data[int(N*0.3):,0]), axis=0)\n",
        "data_params.append([Om, get_s8(Om, s8)])\n",
        "weights.append(ww)"
      ],
      "metadata": {
        "id": "QRWzZU7K_6_8"
      },
      "execution_count": null,
      "outputs": []
    },
    {
      "cell_type": "code",
      "source": [
        "c = ChainConsumer()\n",
        "c.add_chain(data_params[0], weights=weights[0], parameters=[r\"$\\Omega_{\\rm m}$\", r\"$S_{8}$\"], name='DES-SV')\n",
        "c.add_chain(data_params[1], weights=weights[1], name='KiDS-450')\n",
        "\n",
        "c.configure(colors=['orange','g'], label_font_size=18, contour_label_font_size=20, \n",
        "            tick_font_size=20, linewidths=[1.5,1.5,1.5,1.5], sigma2d=False, shade=True, \n",
        "            kde=1.5, shade_alpha=[0.2,1,0.2,0.7], bar_shade=True, sigmas=[0,1,2])\n",
        "fig = c.plotter.plot(extents=[(0.02,0.95),(0.4,1.1)])\n",
        "fig.set_size_inches(4.5 + fig.get_size_inches()) \n"
      ],
      "metadata": {
        "id": "888KV8MvAHbC"
      },
      "execution_count": null,
      "outputs": []
    },
    {
      "cell_type": "code",
      "source": [],
      "metadata": {
        "id": "QsVfU53bAykG"
      },
      "execution_count": null,
      "outputs": []
    },
    {
      "cell_type": "code",
      "source": [],
      "metadata": {
        "id": "ElpwI_GPBWkq"
      },
      "execution_count": null,
      "outputs": []
    },
    {
      "cell_type": "markdown",
      "source": [
        "### Next let's plot the \"unified\" chains"
      ],
      "metadata": {
        "id": "lf_bmKLKBW1K"
      }
    },
    {
      "cell_type": "code",
      "source": [
        "kids2_g = 'data_3/mcmc_kids_matched2_covg.txt'\n",
        "des2_g = 'data_3/mcmc_des_matched2_covg.txt'\n"
      ],
      "metadata": {
        "id": "_yIJhrl7BaHL"
      },
      "execution_count": null,
      "outputs": []
    },
    {
      "cell_type": "code",
      "source": [
        "data_params = []\n",
        "weights = []\n",
        "file_list = [des2_g, kids2_g]\n",
        "\n",
        "data = np.loadtxt(file_list[0])\n",
        "os.system(\"cat \"+file_list[0]+\" | tail -3 | head -1 | sed s/'='/' '/|awk '{print $2}'>nsample\")\n",
        "nsample = int(np.loadtxt('nsample'))\n",
        "weights.append(data[-nsample:,-1])\n",
        "data_params.append([data[-nsample:,13], data[-nsample:,12]*(data[-nsample:,13]/0.3)**0.5]) #12\n",
        "\n",
        "data = np.loadtxt(file_list[1])\n",
        "os.system(\"cat \"+file_list[1]+\" | tail -3 | head -1 | sed s/'='/' '/|awk '{print $2}'>nsample\")\n",
        "nsample = int(np.loadtxt('nsample'))\n",
        "weights.append(data[-nsample:,-1])\n",
        "data_params.append([data[-nsample:,15], data[-nsample:,14]*(data[-nsample:,15]/0.3)**0.5]) #12\n"
      ],
      "metadata": {
        "id": "Tp1vOgDkBhsy"
      },
      "execution_count": null,
      "outputs": []
    },
    {
      "cell_type": "code",
      "source": [
        "c = ChainConsumer()\n",
        "c.add_chain(data_params[0], weights=weights[0], parameters=[r\"$\\Omega_{\\rm m}$\", r\"$S_{8}$\"], name='DES-SV')\n",
        "c.add_chain(data_params[1], weights=weights[1], name='KiDS-450')\n",
        "\n",
        "c.configure(colors=['orange','g'], label_font_size=18, contour_label_font_size=20, \n",
        "            tick_font_size=20, linewidths=[1.5,1.5,1.5,1.5], sigma2d=False, shade=True, \n",
        "            kde=1.5, shade_alpha=[0.2,1,0.2,0.7], bar_shade=True, sigmas=[0,1,2])\n",
        "fig = c.plotter.plot(extents=[(0.02,0.95),(0.4,1.1)])\n",
        "fig.set_size_inches(4.5 + fig.get_size_inches()) \n"
      ],
      "metadata": {
        "id": "3zwfci8lBtmX"
      },
      "execution_count": null,
      "outputs": []
    },
    {
      "cell_type": "code",
      "source": [],
      "metadata": {
        "id": "CefT9__lBzKN"
      },
      "execution_count": null,
      "outputs": []
    }
  ],
  "metadata": {
    "colab": {
      "provenance": [],
      "include_colab_link": true
    },
    "kernelspec": {
      "display_name": "Python 3",
      "language": "python",
      "name": "python3"
    },
    "language_info": {
      "codemirror_mode": {
        "name": "ipython",
        "version": 3
      },
      "file_extension": ".py",
      "mimetype": "text/x-python",
      "name": "python",
      "nbconvert_exporter": "python",
      "pygments_lexer": "ipython3",
      "version": "3.8.6"
    }
  },
  "nbformat": 4,
  "nbformat_minor": 0
}