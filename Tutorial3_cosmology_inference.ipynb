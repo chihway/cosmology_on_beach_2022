{
 "cells": [
  {
   "cell_type": "markdown",
   "metadata": {
    "colab_type": "text",
    "id": "view-in-github"
   },
   "source": [
    "<a href=\"https://colab.research.google.com/github/chihway/cosmology_on_beach_2022/blob/main/Tutorial3_cosmology_inference.ipynb\" target=\"_parent\"><img src=\"https://colab.research.google.com/assets/colab-badge.svg\" alt=\"Open In Colab\"/></a>"
   ]
  },
  {
   "cell_type": "code",
   "execution_count": 1,
   "metadata": {
    "id": "A0TRrNumzxHE"
   },
   "outputs": [],
   "source": [
    "import numpy as np"
   ]
  },
  {
   "cell_type": "code",
   "execution_count": 2,
   "metadata": {
    "colab": {
     "base_uri": "https://localhost:8080/"
    },
    "id": "U-H5r41yz4Gi",
    "outputId": "0ed178e8-457e-498e-8b09-6b20a330708e"
   },
   "outputs": [
    {
     "name": "stdout",
     "output_type": "stream",
     "text": [
      "Looking in indexes: https://pypi.org/simple, https://us-python.pkg.dev/colab-wheels/public/simple/\n",
      "Collecting emcee\n",
      "  Downloading emcee-3.1.3-py2.py3-none-any.whl (46 kB)\n",
      "\u001b[K     |████████████████████████████████| 46 kB 3.2 MB/s \n",
      "\u001b[?25hRequirement already satisfied: numpy in /usr/local/lib/python3.7/dist-packages (from emcee) (1.21.6)\n",
      "Installing collected packages: emcee\n",
      "Successfully installed emcee-3.1.3\n"
     ]
    }
   ],
   "source": [
    "!pip install emcee"
   ]
  },
  {
   "cell_type": "code",
   "execution_count": 1,
   "metadata": {
    "colab": {
     "base_uri": "https://localhost:8080/"
    },
    "id": "LOpkQZ260DjS",
    "outputId": "ca88fa21-f8d7-457d-e3bc-93ea5ad47d48"
   },
   "outputs": [
    {
     "name": "stdout",
     "output_type": "stream",
     "text": [
      "Requirement already satisfied: getdist in /Users/chihwaychang/anaconda3/lib/python3.8/site-packages (1.1.2)\n",
      "Requirement already satisfied: matplotlib>=2.2.0 in /Users/chihwaychang/anaconda3/lib/python3.8/site-packages (from getdist) (3.3.3)\n",
      "Requirement already satisfied: numpy in /Users/chihwaychang/anaconda3/lib/python3.8/site-packages (from getdist) (1.19.4)\n",
      "Requirement already satisfied: scipy>=1.0.0 in /Users/chihwaychang/anaconda3/lib/python3.8/site-packages (from getdist) (1.5.3)\n",
      "Requirement already satisfied: cycler>=0.10 in /Users/chihwaychang/anaconda3/lib/python3.8/site-packages (from matplotlib>=2.2.0->getdist) (0.10.0)\n",
      "Requirement already satisfied: kiwisolver>=1.0.1 in /Users/chihwaychang/anaconda3/lib/python3.8/site-packages (from matplotlib>=2.2.0->getdist) (1.3.1)\n",
      "Requirement already satisfied: pillow>=6.2.0 in /Users/chihwaychang/anaconda3/lib/python3.8/site-packages (from matplotlib>=2.2.0->getdist) (8.0.1)\n",
      "Requirement already satisfied: pyparsing!=2.0.4,!=2.1.2,!=2.1.6,>=2.0.3 in /Users/chihwaychang/anaconda3/lib/python3.8/site-packages (from matplotlib>=2.2.0->getdist) (2.4.7)\n",
      "Requirement already satisfied: python-dateutil>=2.1 in /Users/chihwaychang/anaconda3/lib/python3.8/site-packages (from matplotlib>=2.2.0->getdist) (2.8.1)\n",
      "Requirement already satisfied: six in /Users/chihwaychang/anaconda3/lib/python3.8/site-packages (from cycler>=0.10->matplotlib>=2.2.0->getdist) (1.15.0)\n"
     ]
    }
   ],
   "source": [
    "!pip install getdist"
   ]
  },
  {
   "cell_type": "code",
   "execution_count": 3,
   "metadata": {
    "id": "aBxd0UTpz6Ri"
   },
   "outputs": [],
   "source": [
    "import emcee"
   ]
  },
  {
   "cell_type": "code",
   "execution_count": null,
   "metadata": {
    "id": "gQKViQJ8z-f9"
   },
   "outputs": [],
   "source": []
  }
 ],
 "metadata": {
  "colab": {
   "authorship_tag": "ABX9TyPNlvWQC8HHzEp3To2sLCYu",
   "include_colab_link": true,
   "provenance": []
  },
  "kernelspec": {
   "display_name": "Python 3",
   "language": "python",
   "name": "python3"
  },
  "language_info": {
   "codemirror_mode": {
    "name": "ipython",
    "version": 3
   },
   "file_extension": ".py",
   "mimetype": "text/x-python",
   "name": "python",
   "nbconvert_exporter": "python",
   "pygments_lexer": "ipython3",
   "version": "3.8.6"
  }
 },
 "nbformat": 4,
 "nbformat_minor": 1
}
