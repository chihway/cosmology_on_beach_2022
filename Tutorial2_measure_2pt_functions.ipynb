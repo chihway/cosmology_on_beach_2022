{
  "cells": [
    {
      "cell_type": "markdown",
      "metadata": {
        "id": "view-in-github",
        "colab_type": "text"
      },
      "source": [
        "<a href=\"https://colab.research.google.com/github/chihway/cosmology_on_beach_2022/blob/main/Tutorial2_measure_2pt_functions.ipynb\" target=\"_parent\"><img src=\"https://colab.research.google.com/assets/colab-badge.svg\" alt=\"Open In Colab\"/></a>"
      ]
    },
    {
      "cell_type": "markdown",
      "metadata": {
        "id": "FdR79Ms9x3tX"
      },
      "source": [
        "# **Measure 2pt Functions**\n",
        "\n",
        "Time: 20 min\n",
        "\n",
        "In this tutorial we will learn to measure 2pt functions from a real shear catalog. \n",
        "\n",
        "We will learn to:\n",
        "* Measure real-space two-point shear correlation functions\n",
        "* What the different analysis choices does to the measurements\n",
        "\n",
        "To perform a fast two-point measurement, we rely on a popular package called TreeCorr, from Mike Jarvis (scientist at UPenn). You can read about TreeCorr [here](https://rmjarvis.github.io/TreeCorr/_build/html/index.html). This package is used in papers like [The DES Y3 3x2pt Cosmology](https://arxiv.org/abs/2105.13549).\n"
      ]
    },
    {
      "cell_type": "code",
      "execution_count": null,
      "metadata": {
        "id": "FOjtW8LwxG8k"
      },
      "outputs": [],
      "source": [
        "import numpy as np\n",
        "import pylab as mplot\n",
        "%pylab inline\n",
        "import astropy.io.fits as pf"
      ]
    },
    {
      "cell_type": "code",
      "execution_count": null,
      "metadata": {
        "id": "Y6xZ1XtbxRYF"
      },
      "outputs": [],
      "source": [
        "# you only need to install this once\n",
        "!pip install treecorr"
      ]
    },
    {
      "cell_type": "code",
      "execution_count": null,
      "metadata": {
        "id": "o4ADCZgYxgHu"
      },
      "outputs": [],
      "source": [
        "import treecorr"
      ]
    },
    {
      "cell_type": "markdown",
      "source": [
        "We will measure the 2pt shear correlation function in the DES Y1 data. You'll need to download the data first. This is a trimmed down version of the im3shape catalog described in [this paper](https://arxiv.org/abs/1708.01533) and results presented in [this paper](https://arxiv.org/abs/1708.01538)."
      ],
      "metadata": {
        "id": "n5LJYur-wK3E"
      }
    },
    {
      "cell_type": "code",
      "execution_count": null,
      "metadata": {
        "id": "hvohYnY7xjpD"
      },
      "outputs": [],
      "source": [
        "!rm -rf data_2\n",
        "!curl -O https://portal.nersc.gov/cfs/lsst/chihway/data_2.tar.gz\n",
        "!tar -xvzf data_2.tar.gz"
      ]
    },
    {
      "cell_type": "markdown",
      "source": [
        "Let's read the relevant columns in the file: the positions and shear. Also let's do the measurement on a small patch to speed things up."
      ],
      "metadata": {
        "id": "e_glgvytxhPx"
      }
    },
    {
      "cell_type": "code",
      "source": [
        "pf.open('data_2/y1a1_im3shape_ellip_and_id.fits.gz')[1].header"
      ],
      "metadata": {
        "id": "nfPrhy4P6BFf"
      },
      "execution_count": null,
      "outputs": []
    },
    {
      "cell_type": "code",
      "source": [
        "im3shape = pf.open('data_2/y1a1_im3shape_ellip_and_id.fits.gz')[1].data\n",
        "mask = (im3shape['m']!=0)*(im3shape['ra']>0)*(im3shape['ra']<20)\n",
        "ra = im3shape['ra'][mask]\n",
        "dec = im3shape['dec'][mask]\n",
        "ww = im3shape['weight'][mask]\n",
        "\n",
        "# shears are \"calibrated\"\n",
        "g1 = im3shape['e1'][mask]/np.average(1+im3shape['m'][mask], weights=ww) + np.average(im3shape['c1'][mask], weights=ww)\n",
        "g2 = im3shape['e2'][mask]/np.average(1+im3shape['m'][mask], weights=ww) + np.average(im3shape['c2'][mask], weights=ww)\n",
        "\n",
        "g1 -= np.mean(g1)\n",
        "g2 -= np.mean(g2)"
      ],
      "metadata": {
        "id": "8UyoiKioxrdl"
      },
      "execution_count": null,
      "outputs": []
    },
    {
      "cell_type": "markdown",
      "source": [
        "Now a simple treecorr run is just a few lines. This will take a few min."
      ],
      "metadata": {
        "id": "cd30l9ycyIOS"
      }
    },
    {
      "cell_type": "code",
      "source": [
        "cat = treecorr.Catalog(ra=ra, dec=dec, ra_units='degrees', dec_units='degrees', g1=g1, g2=-g2, w=ww, npatch=20)\n",
        "gg = treecorr.GGCorrelation(min_sep=2., max_sep=250., nbins=20, bin_slop=0.2, sep_units='arcmin', var_method='jackknife')\n",
        "gg.process(cat)\n",
        "xip = gg.xip  # The xi_plus correlation function\n",
        "xim = gg.xim  # The xi_minus correlation function\n",
        "theta = np.exp(gg.meanlogr)"
      ],
      "metadata": {
        "id": "ldlAKmR2yMSb"
      },
      "execution_count": null,
      "outputs": []
    },
    {
      "cell_type": "markdown",
      "source": [
        "Let's check out the covariance matrix. First block is xi+, second is xi-."
      ],
      "metadata": {
        "id": "_uVVx0UzIcWn"
      }
    },
    {
      "cell_type": "code",
      "source": [
        "cov_jk = gg.estimate_cov('jackknife')\n",
        "mplot.imshow(cov_jk)"
      ],
      "metadata": {
        "id": "SBaOpCctH-uN"
      },
      "execution_count": null,
      "outputs": []
    },
    {
      "cell_type": "markdown",
      "source": [
        "The correlation function is when you normalize the diagonal to 1."
      ],
      "metadata": {
        "id": "KWul2awDJfmY"
      }
    },
    {
      "cell_type": "code",
      "source": [
        "norm_cov = cov_jk.copy()\n",
        "for i in range(len(cov_jk)):\n",
        "  for j in range(len(cov_jk)):\n",
        "    norm_cov[i][j] /= np.sqrt(cov_jk[i][i]*cov_jk[j][j])\n",
        "mplot.imshow(norm_cov)"
      ],
      "metadata": {
        "id": "tsmevX5AIkq2"
      },
      "execution_count": null,
      "outputs": []
    },
    {
      "cell_type": "markdown",
      "source": [
        "Now plot the results."
      ],
      "metadata": {
        "id": "SEnts37AyyfA"
      }
    },
    {
      "cell_type": "code",
      "source": [
        "mplot.errorbar(theta, xip, np.diag(cov_jk[:20])**0.5, label='$\\\\xi_{+}$', color='teal')\n",
        "mplot.errorbar(theta, xim, np.diag(cov_jk[20:])**0.5, label='$\\\\xi_{-}$', color='orangered')\n",
        "\n",
        "mplot.xscale('log')\n",
        "mplot.xlabel('theta (arcmin)')\n",
        "mplot.ylabel('$\\\\xi_{\\pm}$')\n",
        "mplot.legend()\n"
      ],
      "metadata": {
        "id": "GaNS5x5dFvR-"
      },
      "execution_count": null,
      "outputs": []
    },
    {
      "cell_type": "markdown",
      "source": [
        "We detected cosmic shear!! \\O/"
      ],
      "metadata": {
        "id": "76Xbw32lGpPb"
      }
    },
    {
      "cell_type": "code",
      "source": [
        "mplot.errorbar(theta, xip, np.diag(cov_jk[:20])**0.5, label='$\\\\xi_{+}$', color='teal')\n",
        "mplot.errorbar(theta, xim, np.diag(cov_jk[20:])**0.5, label='$\\\\xi_{-}$', color='orangered')\n",
        "\n",
        "mplot.xscale('log')\n",
        "mplot.yscale('log')\n",
        "mplot.xlabel('theta (arcmin)')\n",
        "mplot.ylabel('$\\\\xi_{\\pm}$')\n",
        "mplot.legend()\n",
        "mplot.ylim(1e-8, 1e-4)"
      ],
      "metadata": {
        "id": "h24OoHIJyxs_"
      },
      "execution_count": null,
      "outputs": []
    },
    {
      "cell_type": "markdown",
      "source": [
        "Compare your results with your neighbor, are they the same? any guesses why?"
      ],
      "metadata": {
        "id": "eg2RhvCCz5Xe"
      }
    },
    {
      "cell_type": "markdown",
      "source": [
        "### **Try exploring some options**\n",
        "* changing bin size\n",
        "* setting this parameter called [`bin_slop`](https://rmjarvis.github.io/TreeCorr/_build/html/binning.html?highlight=slop#bin-slop)\n",
        "* measuring the 2pt function in different areas in the footprint\n",
        "* measuring a [3pt function](https://rmjarvis.github.io/TreeCorr/_build/html/correlation3.html)?\n",
        "* you can also download [this file](http://desdr-server.ncsa.illinois.edu/despublic/y1a1_files/chains/2pt_NG_mcal_1110.fits) to plot directly the final data vector in DES Y1"
      ],
      "metadata": {
        "id": "y5tfI9tPy-zi"
      }
    },
    {
      "cell_type": "code",
      "source": [],
      "metadata": {
        "id": "nIFGF7R2zqQo"
      },
      "execution_count": null,
      "outputs": []
    }
  ],
  "metadata": {
    "colab": {
      "provenance": [],
      "include_colab_link": true
    },
    "kernelspec": {
      "display_name": "Python 3",
      "language": "python",
      "name": "python3"
    },
    "language_info": {
      "codemirror_mode": {
        "name": "ipython",
        "version": 3
      },
      "file_extension": ".py",
      "mimetype": "text/x-python",
      "name": "python",
      "nbconvert_exporter": "python",
      "pygments_lexer": "ipython3",
      "version": "3.8.6"
    }
  },
  "nbformat": 4,
  "nbformat_minor": 0
}