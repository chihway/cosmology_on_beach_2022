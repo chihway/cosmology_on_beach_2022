{
  "nbformat": 4,
  "nbformat_minor": 0,
  "metadata": {
    "colab": {
      "provenance": [],
      "authorship_tag": "ABX9TyNW6lVmRkjPEZv3ZiORcCn/",
      "include_colab_link": true
    },
    "kernelspec": {
      "name": "python3",
      "display_name": "Python 3"
    },
    "language_info": {
      "name": "python"
    }
  },
  "cells": [
    {
      "cell_type": "markdown",
      "metadata": {
        "id": "view-in-github",
        "colab_type": "text"
      },
      "source": [
        "<a href=\"https://colab.research.google.com/github/chihway/cosmology_on_beach_2022/blob/main/Tutorial2_measure_2pt_functions.ipynb\" target=\"_parent\"><img src=\"https://colab.research.google.com/assets/colab-badge.svg\" alt=\"Open In Colab\"/></a>"
      ]
    },
    {
      "cell_type": "markdown",
      "source": [
        "# Measure 2pt Functions\n",
        "\n",
        "In this tutorial we will learn to measure 2pt functions from the samples we defined in the previous tutorial. \n",
        "\n",
        "We will learn to:\n",
        "* Measure real-space two-point correlation functions  "
      ],
      "metadata": {
        "id": "FdR79Ms9x3tX"
      }
    },
    {
      "cell_type": "code",
      "execution_count": 1,
      "metadata": {
        "id": "FOjtW8LwxG8k"
      },
      "outputs": [],
      "source": [
        "import numpy as np"
      ]
    },
    {
      "cell_type": "markdown",
      "source": [
        "To perform a fast two-point measurement, we rely on a popular package called TreeCorr, from Mike Jarvis (scientist at UPenn). You can read about TreeCorr here. This package is used in papers like XXX. "
      ],
      "metadata": {
        "id": "gu7ohB8YyWpO"
      }
    },
    {
      "cell_type": "code",
      "source": [
        "# you only need to install this once\n",
        "!pip install treecorr"
      ],
      "metadata": {
        "colab": {
          "base_uri": "https://localhost:8080/"
        },
        "id": "Y6xZ1XtbxRYF",
        "outputId": "3a4a12ce-1110-47ff-b81d-0f5baf4d4b9d"
      },
      "execution_count": 2,
      "outputs": [
        {
          "output_type": "stream",
          "name": "stdout",
          "text": [
            "Looking in indexes: https://pypi.org/simple, https://us-python.pkg.dev/colab-wheels/public/simple/\n",
            "Collecting treecorr\n",
            "  Downloading TreeCorr-4.3.1-cp37-cp37m-manylinux_2_17_x86_64.manylinux2014_x86_64.whl (10.8 MB)\n",
            "\u001b[K     |████████████████████████████████| 10.8 MB 8.6 MB/s \n",
            "\u001b[?25hCollecting LSSTDESC.Coord>=1.1\n",
            "  Downloading LSSTDESC.Coord-1.2.3-cp37-cp37m-manylinux2010_x86_64.whl (32 kB)\n",
            "Requirement already satisfied: cffi in /usr/local/lib/python3.7/dist-packages (from treecorr) (1.15.1)\n",
            "Requirement already satisfied: pyyaml in /usr/local/lib/python3.7/dist-packages (from treecorr) (6.0)\n",
            "Requirement already satisfied: numpy in /usr/local/lib/python3.7/dist-packages (from treecorr) (1.21.6)\n",
            "Requirement already satisfied: future in /usr/local/lib/python3.7/dist-packages (from LSSTDESC.Coord>=1.1->treecorr) (0.16.0)\n",
            "Requirement already satisfied: pycparser in /usr/local/lib/python3.7/dist-packages (from cffi->treecorr) (2.21)\n",
            "Installing collected packages: LSSTDESC.Coord, treecorr\n",
            "Successfully installed LSSTDESC.Coord-1.2.3 treecorr-4.3.1\n"
          ]
        }
      ]
    },
    {
      "cell_type": "code",
      "source": [
        "import treecorr"
      ],
      "metadata": {
        "id": "o4ADCZgYxgHu"
      },
      "execution_count": 3,
      "outputs": []
    },
    {
      "cell_type": "code",
      "source": [],
      "metadata": {
        "id": "hvohYnY7xjpD"
      },
      "execution_count": null,
      "outputs": []
    }
  ]
}