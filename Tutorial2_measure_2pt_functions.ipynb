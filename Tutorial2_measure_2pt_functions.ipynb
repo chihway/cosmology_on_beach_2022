{
  "cells": [
    {
      "cell_type": "markdown",
      "metadata": {
        "id": "view-in-github",
        "colab_type": "text"
      },
      "source": [
        "<a href=\"https://colab.research.google.com/github/chihway/cosmology_on_beach_2022/blob/main/Tutorial2_measure_2pt_functions.ipynb\" target=\"_parent\"><img src=\"https://colab.research.google.com/assets/colab-badge.svg\" alt=\"Open In Colab\"/></a>"
      ]
    },
    {
      "cell_type": "markdown",
      "metadata": {
        "id": "FdR79Ms9x3tX"
      },
      "source": [
        "# **Measure 2pt Functions**\n",
        "\n",
        "Time: 15 min\n",
        "\n",
        "In this tutorial we will learn to measure 2pt functions from the samples we defined in the previous tutorial. \n",
        "\n",
        "We will learn to:\n",
        "* Measure real-space two-point shear correlation functions\n",
        "* What the different analysis choices does to the measurements"
      ]
    },
    {
      "cell_type": "code",
      "execution_count": 1,
      "metadata": {
        "id": "FOjtW8LwxG8k"
      },
      "outputs": [],
      "source": [
        "import numpy as np"
      ]
    },
    {
      "cell_type": "markdown",
      "metadata": {
        "id": "gu7ohB8YyWpO"
      },
      "source": [
        "To perform a fast two-point measurement, we rely on a popular package called TreeCorr, from Mike Jarvis (scientist at UPenn). You can read about TreeCorr [here](https://rmjarvis.github.io/TreeCorr/_build/html/index.html). This package is used in papers like [The DES Y3 3x2pt Cosmology](https://arxiv.org/abs/2105.13549)."
      ]
    },
    {
      "cell_type": "code",
      "execution_count": 2,
      "metadata": {
        "colab": {
          "base_uri": "https://localhost:8080/"
        },
        "id": "Y6xZ1XtbxRYF",
        "outputId": "605d64f0-c7b7-4bff-cae8-3321a90c64f6"
      },
      "outputs": [
        {
          "output_type": "stream",
          "name": "stdout",
          "text": [
            "Looking in indexes: https://pypi.org/simple, https://us-python.pkg.dev/colab-wheels/public/simple/\n",
            "Collecting treecorr\n",
            "  Downloading TreeCorr-4.3.1-cp37-cp37m-manylinux_2_17_x86_64.manylinux2014_x86_64.whl (10.8 MB)\n",
            "\u001b[K     |████████████████████████████████| 10.8 MB 9.8 MB/s \n",
            "\u001b[?25hCollecting LSSTDESC.Coord>=1.1\n",
            "  Downloading LSSTDESC.Coord-1.2.3-cp37-cp37m-manylinux2010_x86_64.whl (32 kB)\n",
            "Requirement already satisfied: pyyaml in /usr/local/lib/python3.7/dist-packages (from treecorr) (6.0)\n",
            "Requirement already satisfied: cffi in /usr/local/lib/python3.7/dist-packages (from treecorr) (1.15.1)\n",
            "Requirement already satisfied: numpy in /usr/local/lib/python3.7/dist-packages (from treecorr) (1.21.6)\n",
            "Requirement already satisfied: future in /usr/local/lib/python3.7/dist-packages (from LSSTDESC.Coord>=1.1->treecorr) (0.16.0)\n",
            "Requirement already satisfied: pycparser in /usr/local/lib/python3.7/dist-packages (from cffi->treecorr) (2.21)\n",
            "Installing collected packages: LSSTDESC.Coord, treecorr\n",
            "Successfully installed LSSTDESC.Coord-1.2.3 treecorr-4.3.1\n"
          ]
        }
      ],
      "source": [
        "# you only need to install this once\n",
        "!pip install treecorr"
      ]
    },
    {
      "cell_type": "code",
      "execution_count": 4,
      "metadata": {
        "id": "o4ADCZgYxgHu"
      },
      "outputs": [],
      "source": [
        "import treecorr"
      ]
    },
    {
      "cell_type": "markdown",
      "source": [
        "We will measure the 2pt shear correlation function in the DES Y1 data. You'll need to download the data first. This is a trimmed down version of the im3shape catalog described in [this paper](https://arxiv.org/abs/1708.01533) and results presented in [this paper](https://arxiv.org/abs/1708.01538)."
      ],
      "metadata": {
        "id": "n5LJYur-wK3E"
      }
    },
    {
      "cell_type": "code",
      "execution_count": null,
      "metadata": {
        "id": "hvohYnY7xjpD"
      },
      "outputs": [],
      "source": [
        "!rm -rf data_2\n",
        "!curl -O https://portal.nersc.gov/cfs/lsst/chihway/data_2.tar.gz\n",
        "!tar -xvzf data_2.tar.gz"
      ]
    },
    {
      "cell_type": "markdown",
      "source": [
        "Let's read the relevant columns in the file: the positions and shear."
      ],
      "metadata": {
        "id": "e_glgvytxhPx"
      }
    },
    {
      "cell_type": "code",
      "source": [
        "im3shape = pf.open('data_2/y1a1_im3shape_ellip_and_id.fits.gz')\n",
        "ra = \n",
        "dec = \n",
        "\n",
        "# shears are \"calibrated\"\n",
        "g1 = \n",
        "g2 = \n"
      ],
      "metadata": {
        "id": "8UyoiKioxrdl"
      },
      "execution_count": null,
      "outputs": []
    },
    {
      "cell_type": "markdown",
      "source": [
        "Now a simple treecorr run is just a few lines."
      ],
      "metadata": {
        "id": "cd30l9ycyIOS"
      }
    },
    {
      "cell_type": "code",
      "source": [
        "import treecorr\n",
        "cat = treecorr.Catalog(ra=ra, dec=dec, ra_units='degrees', dec_units='degrees',\n",
        "                       g1=g1, g2=g2)\n",
        "gg = treecorr.GGCorrelation(min_sep=2., max_sep=250., bin_size=0.1, sep_units='arcmin')\n",
        "gg.process(cat)\n",
        "xip = gg.xip  # The xi_plus correlation function\n",
        "xim = gg.xim  # The xi_minus correlation function\n",
        "theta = np.exp(gg.meanlogr)"
      ],
      "metadata": {
        "id": "ldlAKmR2yMSb"
      },
      "execution_count": null,
      "outputs": []
    },
    {
      "cell_type": "markdown",
      "source": [
        "Now plot the results."
      ],
      "metadata": {
        "id": "SEnts37AyyfA"
      }
    },
    {
      "cell_type": "code",
      "source": [],
      "metadata": {
        "id": "h24OoHIJyxs_"
      },
      "execution_count": null,
      "outputs": []
    },
    {
      "cell_type": "markdown",
      "source": [
        "Compare your results with your neighbor, are they the same?"
      ],
      "metadata": {
        "id": "eg2RhvCCz5Xe"
      }
    },
    {
      "cell_type": "markdown",
      "source": [
        "### **Try exploring some options**\n",
        "* changing bin size\n",
        "* setting this parameter called [`bin_slop`](https://rmjarvis.github.io/TreeCorr/_build/html/binning.html?highlight=slop#bin-slop)\n",
        "* measuring the 2pt function in different areas in the footprint\n",
        "* measuring a [3pt function](https://rmjarvis.github.io/TreeCorr/_build/html/correlation3.html)?"
      ],
      "metadata": {
        "id": "y5tfI9tPy-zi"
      }
    },
    {
      "cell_type": "code",
      "source": [],
      "metadata": {
        "id": "nIFGF7R2zqQo"
      },
      "execution_count": null,
      "outputs": []
    }
  ],
  "metadata": {
    "colab": {
      "provenance": [],
      "include_colab_link": true
    },
    "kernelspec": {
      "display_name": "Python 3",
      "language": "python",
      "name": "python3"
    },
    "language_info": {
      "codemirror_mode": {
        "name": "ipython",
        "version": 3
      },
      "file_extension": ".py",
      "mimetype": "text/x-python",
      "name": "python",
      "nbconvert_exporter": "python",
      "pygments_lexer": "ipython3",
      "version": "3.8.6"
    }
  },
  "nbformat": 4,
  "nbformat_minor": 0
}