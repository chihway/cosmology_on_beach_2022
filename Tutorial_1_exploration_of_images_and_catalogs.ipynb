{
  "nbformat": 4,
  "nbformat_minor": 0,
  "metadata": {
    "colab": {
      "provenance": [],
      "authorship_tag": "ABX9TyOJbBlSAnz6PWJYy1cOTmvv",
      "include_colab_link": true
    },
    "kernelspec": {
      "name": "python3",
      "display_name": "Python 3"
    },
    "language_info": {
      "name": "python"
    }
  },
  "cells": [
    {
      "cell_type": "markdown",
      "metadata": {
        "id": "view-in-github",
        "colab_type": "text"
      },
      "source": [
        "<a href=\"https://colab.research.google.com/github/chihway/cosmology_on_beach_2022/blob/main/Tutorial_1_exploration_of_images_and_catalogs.ipynb\" target=\"_parent\"><img src=\"https://colab.research.google.com/assets/colab-badge.svg\" alt=\"Open In Colab\"/></a>"
      ]
    },
    {
      "cell_type": "markdown",
      "source": [
        "# Exploration of Images and Catalogs\n",
        "\n",
        "In this tutorial we will be looking at two sets of images and catalogs from: \n",
        "* [the Dark Energy Survey Y3 data](https://des.ncsa.illinois.edu/home)\n",
        "* simulated data from [the Data Challenge 2 (DC2)](https://data.lsstdesc.org/doc/dc2_sim_sky_survey) of the Rubin Observatory Legacy Survey of Space and Time (LSST) Dark Energy Science Collaboration (DESC)\n",
        "\n",
        "We will learn to\n",
        "* Open and manipulate images, compare the observational and simulated data\n",
        "* Open and maipulate catalogs, compare the observational and simulated data\n",
        "* Estimate depth of a single image"
      ],
      "metadata": {
        "id": "HZ-b18b6t7es"
      }
    },
    {
      "cell_type": "code",
      "execution_count": null,
      "metadata": {
        "id": "bzfEKfsQrq_m"
      },
      "outputs": [],
      "source": [
        "import numpy as np\n",
        "import astropy.io.fits as pf"
      ]
    },
    {
      "cell_type": "code",
      "source": [],
      "metadata": {
        "id": "RTfMiHhtrwON"
      },
      "execution_count": null,
      "outputs": []
    }
  ]
}