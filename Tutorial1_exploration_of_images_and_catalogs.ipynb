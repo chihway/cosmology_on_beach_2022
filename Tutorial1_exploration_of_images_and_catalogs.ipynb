{
  "cells": [
    {
      "cell_type": "markdown",
      "metadata": {
        "id": "view-in-github",
        "colab_type": "text"
      },
      "source": [
        "<a href=\"https://colab.research.google.com/github/chihway/cosmology_on_beach_2022/blob/main/Tutorial1_exploration_of_images_and_catalogs.ipynb\" target=\"_parent\"><img src=\"https://colab.research.google.com/assets/colab-badge.svg\" alt=\"Open In Colab\"/></a>"
      ]
    },
    {
      "cell_type": "markdown",
      "metadata": {
        "id": "HZ-b18b6t7es"
      },
      "source": [
        "# **Exploration of Images and Catalogs**\n",
        "\n",
        "Time: 20 min\n",
        "\n",
        "In this tutorial we will be looking two images and a catalog from [the Dark Energy Survey Data Release 2](https://des.ncsa.illinois.edu/home).\n",
        "\n",
        "We will learn to\n",
        "* Open and manipulate images\n",
        "* Open and manipulate catalogs\n",
        "* Estimate depth of a single image"
      ]
    },
    {
      "cell_type": "code",
      "execution_count": null,
      "metadata": {
        "id": "bzfEKfsQrq_m",
        "collapsed": true
      },
      "outputs": [],
      "source": [
        "import numpy as np\n",
        "import astropy.io.fits as pf\n",
        "import pylab as mplot\n",
        "%pylab inline"
      ]
    },
    {
      "cell_type": "code",
      "execution_count": null,
      "metadata": {
        "id": "3LfY_GKS5HD9"
      },
      "outputs": [],
      "source": [
        "!rm -rf data_1\n",
        "!curl -O https://portal.nersc.gov/cfs/lsst/chihway/data_1.tar.gz\n",
        "!tar -xvzf data_1.tar.gz"
      ]
    },
    {
      "cell_type": "markdown",
      "source": [
        "Look at the files in this directory, there is \n",
        "* i-band coaadd image\n",
        "* Y-band coadd image\n",
        "* coadd catalog\n",
        "* a .tiff image that you can take a look visually"
      ],
      "metadata": {
        "id": "CCvp1UvJbDiC"
      }
    },
    {
      "cell_type": "code",
      "source": [
        "# look at the files in this directory\n",
        "!ls data"
      ],
      "metadata": {
        "id": "En7rwJyIAiiC"
      },
      "execution_count": null,
      "outputs": []
    },
    {
      "cell_type": "markdown",
      "metadata": {
        "id": "ZAVg6jYU5HEB"
      },
      "source": [
        "## First, let's look at some coadd tiles from DECam\n",
        "\n",
        "A \"coadd\" tile is when we combine many (~9 here) single exposures, and a \"tile\" is just a unit DES uses to do the coaddition. It is 10000 by 10000 pixels, with each pixel ~0.263 arcseconds. This means each tile is about 0.5 deg^2.\n",
        "\n",
        "We will look at one i band and one Y band image (see the filter definitions [here](https://noirlab.edu/science/programs/ctio/filters/Dark-Energy-Camera)). "
      ]
    },
    {
      "cell_type": "code",
      "source": [
        "des_image_i = pf.open('data_1/DES0009-0333_r4907p01_i.fits.fz')\n",
        "des_image_Y = pf.open('data_1/DES0009-0333_r4907p01_Y.fits.fz')\n",
        "\n",
        "des_image_i.info()\n",
        "# the three extensions are the image, the mask and weights"
      ],
      "metadata": {
        "id": "B4AT3yohbXwg"
      },
      "execution_count": null,
      "outputs": []
    },
    {
      "cell_type": "code",
      "source": [
        "mplot.figure(figsize=(12,10))\n",
        "mplot.imshow(des_image_i[1].data)\n",
        "mplot.colorbar()\n",
        "mplot.title('DES0009-0333 i')"
      ],
      "metadata": {
        "id": "wU6WMn7KePaU"
      },
      "execution_count": null,
      "outputs": []
    },
    {
      "cell_type": "markdown",
      "source": [
        "### **Can't see anything? what's going on? try to fix this before looking at one of the solutions below.**"
      ],
      "metadata": {
        "id": "tA4BETRYedtG"
      }
    },
    {
      "cell_type": "code",
      "source": [
        "mplot.figure(figsize=(12,10))\n",
        "mplot.imshow(np.log10(des_image_i[1].data+20))\n",
        "mplot.plot([0,9999],[3100,3100], color='w', ls=\":\")\n",
        "mplot.colorbar()\n",
        "mplot.title('DES0009-0333 i')\n",
        "mplot.clim(1.0,2.3)"
      ],
      "metadata": {
        "id": "oYyt6Hycbrai"
      },
      "execution_count": null,
      "outputs": []
    },
    {
      "cell_type": "markdown",
      "source": [
        "You can take a look at a 1D slice through this bright object."
      ],
      "metadata": {
        "id": "EU29SoAqiz3H"
      }
    },
    {
      "cell_type": "code",
      "source": [
        "mplot.figure(figsize=(10,3))\n",
        "mplot.plot(des_image_i[1].data[3100])\n",
        "mplot.figure(figsize=(10,3))\n",
        "mplot.plot(des_image_i[1].data[3100])\n",
        "mplot.ylim(-30,100)\n"
      ],
      "metadata": {
        "id": "hTFcTHCOihQ_"
      },
      "execution_count": null,
      "outputs": []
    },
    {
      "cell_type": "markdown",
      "source": [
        "Now zoom in a little"
      ],
      "metadata": {
        "id": "n_fVKNDhhtyF"
      }
    },
    {
      "cell_type": "code",
      "source": [
        "mplot.figure(figsize=(12,10))\n",
        "mplot.imshow(np.log10(des_image_i[1].data+20))\n",
        "mplot.colorbar()\n",
        "mplot.title('DES0009-0333 i')\n",
        "mplot.clim(1.0,2.3)\n",
        "mplot.xlim(1000,1500)\n",
        "mplot.ylim(500,1000)"
      ],
      "metadata": {
        "id": "E6ltLUUxhmPA"
      },
      "execution_count": null,
      "outputs": []
    },
    {
      "cell_type": "markdown",
      "source": [
        "### Now look at the Y-band image in the same area of the sky"
      ],
      "metadata": {
        "id": "HEbU9D9CgPNj"
      }
    },
    {
      "cell_type": "code",
      "source": [
        "mplot.figure(figsize=(12,10))\n",
        "mplot.imshow(np.log10(des_image_Y[1].data+300))\n",
        "mplot.colorbar()\n",
        "mplot.title('DES0009-0333 Y')\n",
        "mplot.clim(2.2,3.5)"
      ],
      "metadata": {
        "id": "LXCiSBCbgWCR"
      },
      "execution_count": null,
      "outputs": []
    },
    {
      "cell_type": "markdown",
      "source": [
        "### **Look at the same 1D slice and see what is different. Talk to your neighbors and discuss what is different here.**"
      ],
      "metadata": {
        "id": "LIoZKbJzjJxs"
      }
    },
    {
      "cell_type": "code",
      "source": [
        "mplot.figure(figsize=(10,3))\n",
        "mplot.plot(des_image_Y[1].data[3100])\n",
        "mplot.figure(figsize=(10,3))\n",
        "mplot.plot(des_image_Y[1].data[3100])\n",
        "mplot.ylim(-100,300)"
      ],
      "metadata": {
        "id": "8fmKOJKNgWLY"
      },
      "execution_count": null,
      "outputs": []
    },
    {
      "cell_type": "markdown",
      "source": [
        "### **Zoom into something you find interesting. Show your neighbor and explain why.**"
      ],
      "metadata": {
        "id": "fFbhIHDFBCQz"
      }
    },
    {
      "cell_type": "code",
      "execution_count": null,
      "metadata": {
        "id": "JLy7pVW-5HEC"
      },
      "outputs": [],
      "source": []
    },
    {
      "cell_type": "markdown",
      "metadata": {
        "id": "-8fSycxg5HEC"
      },
      "source": [
        "## Now let's open a catalog from this same image"
      ]
    },
    {
      "cell_type": "code",
      "source": [
        "des_cat = pf.open('data_1/DES0009-0333_dr2_main.fits')[1].data"
      ],
      "metadata": {
        "id": "RcsT1OXykPjl"
      },
      "execution_count": null,
      "outputs": []
    },
    {
      "cell_type": "markdown",
      "source": [
        "Let's look at what columns it has"
      ],
      "metadata": {
        "id": "fvI-IPq8kbrG"
      }
    },
    {
      "cell_type": "code",
      "source": [
        "pf.open('data_1/DES0009-0333_dr2_main.fits')[1].header"
      ],
      "metadata": {
        "id": "qWv9Sf0HkelT"
      },
      "execution_count": null,
      "outputs": []
    },
    {
      "cell_type": "markdown",
      "metadata": {
        "id": "iJ7RpKiD5HED"
      },
      "source": [
        "Let's plot the magnitude distribution in each band."
      ]
    },
    {
      "cell_type": "code",
      "execution_count": null,
      "metadata": {
        "id": "UwJZzklt5HED"
      },
      "outputs": [],
      "source": [
        "flag_all = (des_cat[\"FLAGS_G\"]==0)*(des_cat[\"FLAGS_R\"]==0)*(des_cat[\"FLAGS_I\"]==0)*(des_cat[\"FLAGS_Z\"]==0)*(des_cat[\"FLAGS_Y\"]==0)\n",
        "\n",
        "mplot.hist(des_cat[\"MAG_AUTO_G\"][flag_all], range=(16, 30), bins=50, histtype='step', label='g')\n",
        "mplot.hist(des_cat[\"MAG_AUTO_R\"][flag_all], range=(16, 30), bins=50, histtype='step', label='r')\n",
        "mplot.hist(des_cat[\"MAG_AUTO_I\"][flag_all], range=(16, 30), bins=50, histtype='step', label='i')\n",
        "mplot.hist(des_cat[\"MAG_AUTO_Z\"][flag_all], range=(16, 30), bins=50, histtype='step', label='z')\n",
        "mplot.hist(des_cat[\"MAG_AUTO_Y\"][flag_all], range=(16, 30), bins=50, histtype='step', label='Y')\n",
        "\n",
        "mplot.xlabel('mag auto')\n",
        "mplot.ylabel('# of objects')\n",
        "mplot.yscale('log')\n",
        "mplot.legend()\n"
      ]
    },
    {
      "cell_type": "markdown",
      "source": [
        "Let's make a scatter plot of i-band magnitude and magnitude error. This is a fun and quick way to read off what the 10 sigma depth of the image is -- draw a line at y~0.11 and the corresponding x value is a rough estimate. "
      ],
      "metadata": {
        "id": "1dPN98dZn5x7"
      }
    },
    {
      "cell_type": "code",
      "source": [
        "mplot.hexbin(des_cat[\"MAG_AUTO_I\"][flag_all], des_cat[\"MAGERR_AUTO_I\"][flag_all], extent=(16,30,0,1), bins='log')\n",
        "mplot.xlabel('MAG_AUTO_I')\n",
        "mplot.ylabel('MAGERR_AUTO_I')\n",
        "mplot.plot([16,30],[0.11,0.11], color='w', ls=':')"
      ],
      "metadata": {
        "id": "vHwR4jCDn40O"
      },
      "execution_count": null,
      "outputs": []
    },
    {
      "cell_type": "markdown",
      "source": [
        "### **Now make a plot of some of these columns and exlpain what you're seeing to your neighbor.**"
      ],
      "metadata": {
        "id": "6UDepZk1nrAW"
      }
    },
    {
      "cell_type": "code",
      "source": [],
      "metadata": {
        "id": "eXPXLqIenqLg"
      },
      "execution_count": null,
      "outputs": []
    }
  ],
  "metadata": {
    "colab": {
      "provenance": [],
      "include_colab_link": true
    },
    "kernelspec": {
      "display_name": "Python 3",
      "language": "python",
      "name": "python3"
    },
    "language_info": {
      "codemirror_mode": {
        "name": "ipython",
        "version": 3
      },
      "file_extension": ".py",
      "mimetype": "text/x-python",
      "name": "python",
      "nbconvert_exporter": "python",
      "pygments_lexer": "ipython3",
      "version": "3.8.6"
    }
  },
  "nbformat": 4,
  "nbformat_minor": 0
}